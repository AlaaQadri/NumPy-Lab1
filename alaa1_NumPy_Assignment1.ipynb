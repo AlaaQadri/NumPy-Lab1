{
  "cells": [
    {
      "cell_type": "code",
      "execution_count": 2,
      "id": "212fd1ba",
      "metadata": {
        "id": "212fd1ba"
      },
      "outputs": [],
      "source": [
        "import numpy as np"
      ]
    },
    {
      "cell_type": "markdown",
      "id": "0a67bd40",
      "metadata": {
        "id": "0a67bd40"
      },
      "source": [
        "## Q#1: Create x array with elements equal to 1."
      ]
    },
    {
      "cell_type": "code",
      "source": [
        "x = np.ones(5)\n",
        "x"
      ],
      "metadata": {
        "id": "wa906DlWVW_r",
        "outputId": "0333f53a-3501-48f4-b100-727770820b6b",
        "colab": {
          "base_uri": "https://localhost:8080/"
        }
      },
      "id": "wa906DlWVW_r",
      "execution_count": 3,
      "outputs": [
        {
          "output_type": "execute_result",
          "data": {
            "text/plain": [
              "array([1., 1., 1., 1., 1.])"
            ]
          },
          "metadata": {},
          "execution_count": 3
        }
      ]
    },
    {
      "cell_type": "markdown",
      "id": "7795306d",
      "metadata": {
        "id": "7795306d"
      },
      "source": [
        "## Q#2: Create y array with elements equal to 0."
      ]
    },
    {
      "cell_type": "code",
      "source": [
        "y = np.zeros(5)\n",
        "y"
      ],
      "metadata": {
        "id": "FdaOQlGzV4sM",
        "outputId": "0e7db567-341c-4d48-ac30-5e1d2e8f3903",
        "colab": {
          "base_uri": "https://localhost:8080/"
        }
      },
      "id": "FdaOQlGzV4sM",
      "execution_count": 4,
      "outputs": [
        {
          "output_type": "execute_result",
          "data": {
            "text/plain": [
              "array([0., 0., 0., 0., 0.])"
            ]
          },
          "metadata": {},
          "execution_count": 4
        }
      ]
    },
    {
      "cell_type": "markdown",
      "id": "cde6a939",
      "metadata": {
        "id": "cde6a939"
      },
      "source": [
        "## Q#3: Add x and y arrays."
      ]
    },
    {
      "cell_type": "code",
      "source": [
        "np.vstack((x,y))"
      ],
      "metadata": {
        "colab": {
          "base_uri": "https://localhost:8080/"
        },
        "id": "GiOOEUZwWM6z",
        "outputId": "6fe2a92d-bb31-4659-b285-859f46233199"
      },
      "id": "GiOOEUZwWM6z",
      "execution_count": 5,
      "outputs": [
        {
          "output_type": "execute_result",
          "data": {
            "text/plain": [
              "array([[1., 1., 1., 1., 1.],\n",
              "       [0., 0., 0., 0., 0.]])"
            ]
          },
          "metadata": {},
          "execution_count": 5
        }
      ]
    },
    {
      "cell_type": "code",
      "source": [
        "z = x + y\n",
        "z"
      ],
      "metadata": {
        "colab": {
          "base_uri": "https://localhost:8080/"
        },
        "id": "xPFp0a1AYGIs",
        "outputId": "b609328f-0200-4776-982a-dc0f8b73d8a1"
      },
      "id": "xPFp0a1AYGIs",
      "execution_count": 6,
      "outputs": [
        {
          "output_type": "execute_result",
          "data": {
            "text/plain": [
              "array([1., 1., 1., 1., 1.])"
            ]
          },
          "metadata": {},
          "execution_count": 6
        }
      ]
    },
    {
      "cell_type": "markdown",
      "id": "ed854f4c",
      "metadata": {
        "id": "ed854f4c"
      },
      "source": [
        "## Q#4: Print x array characteristics (e.g: dimension, shape, size, type)"
      ]
    },
    {
      "cell_type": "code",
      "source": [
        "print('type = ',x.dtype)\n",
        "print('number of dimensions = ', x.ndim)\n",
        "print('shape = ', x.shape)\n",
        "print('size = ', x.size)"
      ],
      "metadata": {
        "colab": {
          "base_uri": "https://localhost:8080/"
        },
        "id": "yWVOiBiJX3CG",
        "outputId": "2aa366d1-7c0e-40eb-c91d-f653cef9e327"
      },
      "id": "yWVOiBiJX3CG",
      "execution_count": 7,
      "outputs": [
        {
          "output_type": "stream",
          "name": "stdout",
          "text": [
            "type =  float64\n",
            "number of dimensions =  1\n",
            "shape =  (5,)\n",
            "size =  5\n"
          ]
        }
      ]
    },
    {
      "cell_type": "markdown",
      "id": "dbd46a73",
      "metadata": {
        "id": "dbd46a73"
      },
      "source": [
        "## Q#5: Create a 2D array \"called w\" as the following:\n",
        "\n",
        "|       |          |\n",
        "| ----- | -------- |\n",
        "| 11    | 12       |\n",
        "| 13    | 14       |\n",
        "| 15    | 16       |\n"
      ]
    },
    {
      "cell_type": "code",
      "source": [
        "w = np.array([[11, 12],[13, 14],[15,16]])\n",
        "w\n",
        "# h = w.transpose()"
      ],
      "metadata": {
        "colab": {
          "base_uri": "https://localhost:8080/"
        },
        "id": "1WUxEwJ7YSbH",
        "outputId": "51c9cd00-622b-496b-b31c-63f1eb4bf8be"
      },
      "id": "1WUxEwJ7YSbH",
      "execution_count": 8,
      "outputs": [
        {
          "output_type": "execute_result",
          "data": {
            "text/plain": [
              "array([[11, 12],\n",
              "       [13, 14],\n",
              "       [15, 16]])"
            ]
          },
          "metadata": {},
          "execution_count": 8
        }
      ]
    },
    {
      "cell_type": "markdown",
      "id": "0e62bd09",
      "metadata": {
        "id": "0e62bd09"
      },
      "source": [
        "## Q#6: Create z array contains the numbers from 1 to 3."
      ]
    },
    {
      "cell_type": "code",
      "source": [
        "z = np.array([[1],[2],[3]])\n",
        "z\n"
      ],
      "metadata": {
        "colab": {
          "base_uri": "https://localhost:8080/"
        },
        "id": "aLMue10BYw3H",
        "outputId": "86cdd654-6b61-4e44-83a8-65214f5e45d6"
      },
      "id": "aLMue10BYw3H",
      "execution_count": 9,
      "outputs": [
        {
          "output_type": "execute_result",
          "data": {
            "text/plain": [
              "array([[1],\n",
              "       [2],\n",
              "       [3]])"
            ]
          },
          "metadata": {},
          "execution_count": 9
        }
      ]
    },
    {
      "cell_type": "markdown",
      "id": "32b00711",
      "metadata": {
        "id": "32b00711"
      },
      "source": [
        "## Q#7: Combine the arrays z and w in horizontal way then save it in a new variable \"newArray\"."
      ]
    },
    {
      "cell_type": "code",
      "source": [
        "newArray = np.hstack((z, w))\n",
        "newArray"
      ],
      "metadata": {
        "colab": {
          "base_uri": "https://localhost:8080/"
        },
        "id": "4ANXIxZiZRUh",
        "outputId": "75392861-aa0f-4501-84e9-7ed8599067c6"
      },
      "id": "4ANXIxZiZRUh",
      "execution_count": 10,
      "outputs": [
        {
          "output_type": "execute_result",
          "data": {
            "text/plain": [
              "array([[ 1, 11, 12],\n",
              "       [ 2, 13, 14],\n",
              "       [ 3, 15, 16]])"
            ]
          },
          "metadata": {},
          "execution_count": 10
        }
      ]
    },
    {
      "cell_type": "markdown",
      "id": "7e009910",
      "metadata": {
        "id": "7e009910"
      },
      "source": [
        "## Q#8: Print all elements of \"newArray\" using the loop."
      ]
    },
    {
      "cell_type": "code",
      "source": [
        "for item in newArray.flat:\n",
        "    print(item)"
      ],
      "metadata": {
        "colab": {
          "base_uri": "https://localhost:8080/"
        },
        "id": "Ylje3dxyeolF",
        "outputId": "69746882-757a-43a6-9524-808ac8a630fb"
      },
      "id": "Ylje3dxyeolF",
      "execution_count": 11,
      "outputs": [
        {
          "output_type": "stream",
          "name": "stdout",
          "text": [
            "1\n",
            "11\n",
            "12\n",
            "2\n",
            "13\n",
            "14\n",
            "3\n",
            "15\n",
            "16\n"
          ]
        }
      ]
    },
    {
      "cell_type": "markdown",
      "id": "011c6d2d",
      "metadata": {
        "id": "011c6d2d"
      },
      "source": [
        "## Q#9: Reverse the columns and rows of \"newArray\"."
      ]
    },
    {
      "cell_type": "code",
      "source": [
        "newArray.transpose()"
      ],
      "metadata": {
        "colab": {
          "base_uri": "https://localhost:8080/"
        },
        "id": "OnTi2XC5ewZu",
        "outputId": "03846725-a728-4dba-b984-425e4eb9f63f"
      },
      "id": "OnTi2XC5ewZu",
      "execution_count": 12,
      "outputs": [
        {
          "output_type": "execute_result",
          "data": {
            "text/plain": [
              "array([[ 1,  2,  3],\n",
              "       [11, 13, 15],\n",
              "       [12, 14, 16]])"
            ]
          },
          "metadata": {},
          "execution_count": 12
        }
      ]
    },
    {
      "cell_type": "markdown",
      "id": "f40b57c3",
      "metadata": {
        "id": "f40b57c3"
      },
      "source": [
        "## Q#10: Decrement all elements of \"newArray\" with 1."
      ]
    },
    {
      "cell_type": "code",
      "source": [
        "newArray -= 1\n",
        "newArray"
      ],
      "metadata": {
        "colab": {
          "base_uri": "https://localhost:8080/"
        },
        "id": "oKDXCdy2e1zb",
        "outputId": "6bc35187-22e2-444a-99a5-a46007e32337"
      },
      "id": "oKDXCdy2e1zb",
      "execution_count": 13,
      "outputs": [
        {
          "output_type": "execute_result",
          "data": {
            "text/plain": [
              "array([[ 0, 10, 11],\n",
              "       [ 1, 12, 13],\n",
              "       [ 2, 14, 15]])"
            ]
          },
          "metadata": {},
          "execution_count": 13
        }
      ]
    },
    {
      "cell_type": "markdown",
      "id": "8901e8be",
      "metadata": {
        "id": "8901e8be"
      },
      "source": [
        "## Q#11: Find smallest and biggest values in \"newArray\"."
      ]
    },
    {
      "cell_type": "code",
      "source": [
        "print(\"the smallest value is: \",newArray.min())\n",
        "print(\"the biggest value is: \",newArray.max())"
      ],
      "metadata": {
        "colab": {
          "base_uri": "https://localhost:8080/"
        },
        "id": "B4fdqHX0fFOI",
        "outputId": "e21ac66d-7843-4c36-e23f-f4b62d8482be"
      },
      "id": "B4fdqHX0fFOI",
      "execution_count": 15,
      "outputs": [
        {
          "output_type": "stream",
          "name": "stdout",
          "text": [
            "the smallest value is:  0\n",
            "the biggest value is:  15\n"
          ]
        }
      ]
    },
    {
      "cell_type": "markdown",
      "id": "c5d5d4ca",
      "metadata": {
        "id": "c5d5d4ca"
      },
      "source": [
        "## Q#12: Print the first row of \"newArray\" using indexing."
      ]
    },
    {
      "cell_type": "code",
      "source": [
        "newArray[0][0] , newArray[0][1] , newArray[0][2]"
      ],
      "metadata": {
        "colab": {
          "base_uri": "https://localhost:8080/"
        },
        "id": "Xe5Kebaok7lO",
        "outputId": "f6364a8b-8276-4c64-eb03-a7f0d1c1e2de"
      },
      "id": "Xe5Kebaok7lO",
      "execution_count": 16,
      "outputs": [
        {
          "output_type": "execute_result",
          "data": {
            "text/plain": [
              "(0, 10, 11)"
            ]
          },
          "metadata": {},
          "execution_count": 16
        }
      ]
    },
    {
      "cell_type": "markdown",
      "id": "78f4d6c1",
      "metadata": {
        "id": "78f4d6c1"
      },
      "source": [
        "## Q#13: Print the number equals 12 of \"newArray\" using indexing."
      ]
    },
    {
      "cell_type": "code",
      "source": [
        "newArray[1,1]"
      ],
      "metadata": {
        "colab": {
          "base_uri": "https://localhost:8080/"
        },
        "id": "-M-HL9KrgTBR",
        "outputId": "0fe3be7e-7301-4840-9218-6e58fa46ca9e"
      },
      "id": "-M-HL9KrgTBR",
      "execution_count": 17,
      "outputs": [
        {
          "output_type": "execute_result",
          "data": {
            "text/plain": [
              "12"
            ]
          },
          "metadata": {},
          "execution_count": 17
        }
      ]
    },
    {
      "cell_type": "markdown",
      "id": "932b5c3d",
      "metadata": {
        "id": "932b5c3d"
      },
      "source": [
        "## Q#14: Print the numbers equal 0 and 13 of \"newArray\" using Slicing."
      ]
    },
    {
      "cell_type": "code",
      "source": [
        "newArray[0][0]\n"
      ],
      "metadata": {
        "colab": {
          "base_uri": "https://localhost:8080/"
        },
        "id": "LX_mWFQEgxAr",
        "outputId": "29e2c09c-b2f0-4f48-92dc-6ad1b1270a45"
      },
      "id": "LX_mWFQEgxAr",
      "execution_count": 18,
      "outputs": [
        {
          "output_type": "execute_result",
          "data": {
            "text/plain": [
              "0"
            ]
          },
          "metadata": {},
          "execution_count": 18
        }
      ]
    },
    {
      "cell_type": "code",
      "source": [
        "newArray[1][2]"
      ],
      "metadata": {
        "colab": {
          "base_uri": "https://localhost:8080/"
        },
        "id": "R6XEKb76iAN2",
        "outputId": "b5f22970-be7a-42d8-b502-442e4ae8d2bf"
      },
      "id": "R6XEKb76iAN2",
      "execution_count": 19,
      "outputs": [
        {
          "output_type": "execute_result",
          "data": {
            "text/plain": [
              "13"
            ]
          },
          "metadata": {},
          "execution_count": 19
        }
      ]
    },
    {
      "cell_type": "markdown",
      "id": "27e0f68e",
      "metadata": {
        "id": "27e0f68e"
      },
      "source": [
        "## Q#15: Change the shape of \"newArray\" to (9,1)."
      ]
    },
    {
      "cell_type": "code",
      "source": [
        "newArray.reshape(9,1)"
      ],
      "metadata": {
        "colab": {
          "base_uri": "https://localhost:8080/"
        },
        "id": "DPWJZWpfiFlf",
        "outputId": "5ac911c6-8784-40fc-d875-2641c8ae6a89"
      },
      "id": "DPWJZWpfiFlf",
      "execution_count": 21,
      "outputs": [
        {
          "output_type": "execute_result",
          "data": {
            "text/plain": [
              "array([[ 0],\n",
              "       [10],\n",
              "       [11],\n",
              "       [ 1],\n",
              "       [12],\n",
              "       [13],\n",
              "       [ 2],\n",
              "       [14],\n",
              "       [15]])"
            ]
          },
          "metadata": {},
          "execution_count": 21
        }
      ]
    },
    {
      "cell_type": "markdown",
      "id": "e6d104c5",
      "metadata": {
        "id": "e6d104c5"
      },
      "source": [
        "## Q#16: Change the shape of \"newArray\" to (3,2)."
      ]
    },
    {
      "cell_type": "code",
      "source": [
        "newArray.reshape(3,2) # we can,t reshape the array because the size is 9x1"
      ],
      "metadata": {
        "colab": {
          "base_uri": "https://localhost:8080/",
          "height": 165
        },
        "id": "5skHsEcRiL9a",
        "outputId": "891f8a2a-cff7-40b2-9782-31301403b352"
      },
      "id": "5skHsEcRiL9a",
      "execution_count": 22,
      "outputs": [
        {
          "output_type": "error",
          "ename": "ValueError",
          "evalue": "ignored",
          "traceback": [
            "\u001b[0;31m---------------------------------------------------------------------------\u001b[0m",
            "\u001b[0;31mValueError\u001b[0m                                Traceback (most recent call last)",
            "\u001b[0;32m<ipython-input-22-40f83a3d09d6>\u001b[0m in \u001b[0;36m<module>\u001b[0;34m\u001b[0m\n\u001b[0;32m----> 1\u001b[0;31m \u001b[0mnewArray\u001b[0m\u001b[0;34m.\u001b[0m\u001b[0mreshape\u001b[0m\u001b[0;34m(\u001b[0m\u001b[0;36m3\u001b[0m\u001b[0;34m,\u001b[0m\u001b[0;36m2\u001b[0m\u001b[0;34m)\u001b[0m\u001b[0;34m\u001b[0m\u001b[0;34m\u001b[0m\u001b[0m\n\u001b[0m",
            "\u001b[0;31mValueError\u001b[0m: cannot reshape array of size 9 into shape (3,2)"
          ]
        }
      ]
    },
    {
      "cell_type": "markdown",
      "id": "09567fdc",
      "metadata": {
        "id": "09567fdc"
      },
      "source": [
        "# Well Done 🎉"
      ]
    },
    {
      "cell_type": "code",
      "source": [
        "newArray.transpose()"
      ],
      "metadata": {
        "id": "uVh0lRCBiZ4W"
      },
      "id": "uVh0lRCBiZ4W",
      "execution_count": null,
      "outputs": []
    },
    {
      "cell_type": "code",
      "source": [],
      "metadata": {
        "id": "1kSKFy6Uidor"
      },
      "id": "1kSKFy6Uidor",
      "execution_count": null,
      "outputs": []
    }
  ],
  "metadata": {
    "kernelspec": {
      "display_name": "Python 3 (ipykernel)",
      "language": "python",
      "name": "python3"
    },
    "language_info": {
      "codemirror_mode": {
        "name": "ipython",
        "version": 3
      },
      "file_extension": ".py",
      "mimetype": "text/x-python",
      "name": "python",
      "nbconvert_exporter": "python",
      "pygments_lexer": "ipython3",
      "version": "3.9.12"
    },
    "colab": {
      "provenance": [],
      "collapsed_sections": [
        "0a67bd40",
        "7795306d",
        "cde6a939",
        "ed854f4c",
        "dbd46a73",
        "0e62bd09",
        "32b00711",
        "011c6d2d",
        "e6d104c5",
        "09567fdc"
      ]
    }
  },
  "nbformat": 4,
  "nbformat_minor": 5
}